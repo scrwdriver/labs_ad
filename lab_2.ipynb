{
 "cells": [
  {
   "cell_type": "code",
   "id": "initial_id",
   "metadata": {
    "collapsed": true
   },
   "source": [
    "import os\n",
    "import urllib.request\n",
    "import datetime\n",
    "import pandas as pd\n",
    "import glob\n",
    "from colorama import Fore, Style"
   ],
   "outputs": [],
   "execution_count": null
  },
  {
   "metadata": {},
   "cell_type": "code",
   "source": [
    "def ensure_dir(path):\n",
    "    if not os.path.exists(path):\n",
    "        os.makedirs(path)\n",
    "        print(f\"{Fore.RED}Directory '{path}' created.\")\n",
    "    else:\n",
    "        print(f\"Directory '{path}' already exists.\")"
   ],
   "id": "8724a29ddb160dfb",
   "outputs": [],
   "execution_count": null
  },
  {
   "metadata": {},
   "cell_type": "code",
   "source": [
    "def retrieve_vhi_data(region_code, year_start=1981, year_end=2024):\n",
    "    base_url = \"https://www.star.nesdis.noaa.gov/smcd/emb/vci/VH/get_TS_admin.php\"\n",
    "    query = f\"?country=UKR&provinceID={region_code}&year1={year_start}&year2={year_end}&type=Mean\"\n",
    "    response = urllib.request.urlopen(base_url + query)\n",
    "    \n",
    "    if response.status == 200:\n",
    "        timestamp = datetime.datetime.now().strftime('%Y%m%d_%H%M')\n",
    "        file_path = f\"data/vhi_{region_code}_{timestamp}.csv\"\n",
    "        with open(file_path, 'wb') as file:\n",
    "            file.write(response.read())\n",
    "        print(f\"{Fore.GREEN}Data for region {region_code} saved to {file_path}.\")\n",
    "    else:\n",
    "        print(f\"{Fore.RED}Failed to download data for region {region_code}.\")"
   ],
   "id": "2f6d5bffb24c8e6c",
   "outputs": [],
   "execution_count": null
  },
  {
   "metadata": {},
   "cell_type": "code",
   "source": [
    "def download_all_regions(start_region=1, end_region=27):\n",
    "    for region in range(start_region, end_region + 1):\n",
    "        retrieve_vhi_data(region)\n",
    "\n",
    "ensure_dir('data')\n",
    "download_all_regions()"
   ],
   "id": "1337c31fad3829f4",
   "outputs": [],
   "execution_count": null
  },
  {
   "metadata": {},
   "cell_type": "code",
   "source": [
    "region_names_ukr = {\n",
    "    1: \"Вінницька\", 2: \"Волинська\", 3: \"Дніпропетровська\", 4: \"Донецька\", 5: \"Житомирська\", \n",
    "    6: \"Закарпатська\", 7: \"Запорізька\", 8: \"Івано-Франківська\", 9: \"Київська\", 10: \"Кіровоградська\", \n",
    "    11: \"Луганська\", 12: \"Львівська\", 13: \"Миколаївська\", 14: \"Одеська\", 15: \"Полтавська\", \n",
    "    16: \"Рівненська\", 17: \"Сумська\", 18: \"Тернопільська\", 19: \"Харківська\", 20: \"Херсонська\", \n",
    "    21: \"Хмельницька\", 22: \"Черкаська\", 23: \"Чернівецька\", 24: \"Чернігівська\", 25: \"Республіка Крим\"\n",
    "}"
   ],
   "id": "d4fa8a6984f51e69",
   "outputs": [],
   "execution_count": null
  },
  {
   "metadata": {},
   "cell_type": "code",
   "source": [
    "region_mappings = {\n",
    "    1: 24, 2: 25, 3: 5, 4: 4, 5: 3, 6: 4, 7: 8, 8: 19, 9: 9, 10: 10, \n",
    "    11: 11, 12: 12, 13: 13, 14: 14, 15: 15, 16: 16, 17: 17, 18: 18, 19: 20, \n",
    "    20: 20, 21: 21, 22: 22, 23: 23, 24: 1, 25: 25, 26: 26, 27: 27\n",
    "}"
   ],
   "id": "e526cf4adf360b47",
   "outputs": [],
   "execution_count": null
  },
  {
   "metadata": {},
   "cell_type": "code",
   "source": "reverse_region_mappings = {v: k for k, v in region_mappings.items()}",
   "id": "77bf6d965bdb2905",
   "outputs": [],
   "execution_count": null
  },
  {
   "metadata": {},
   "cell_type": "code",
   "source": [
    "def load_and_process_data(folder):\n",
    "    all_files = glob.glob(folder + \"/*.csv\")\n",
    "    data_frames = []\n",
    "    columns = ['Year', 'Week', 'SMN', 'SMT', 'VCI', 'TCI', 'VHI', 'empty']\n",
    "\n",
    "    for file in all_files:\n",
    "        region_code = int(file.split('_')[1])\n",
    "        df = pd.read_csv(file, header=1, names=columns)\n",
    "        df.drop(columns=['empty'], inplace=True)\n",
    "        df = df[df['VHI'] != -1]\n",
    "        df.insert(0, 'region_id', region_code)\n",
    "        df['Year'] = df['Year'].str.extract(r'(\\d+)', expand=False)\n",
    "        df.dropna(subset=['Year'], inplace=True)  # Видаляємо рядки з NaN у стовпці Year\n",
    "        df['Year'] = df['Year'].astype(int)\n",
    "        data_frames.append(df)\n",
    "\n",
    "    combined_df = pd.concat(data_frames).drop_duplicates().reset_index(drop=True)\n",
    "    combined_df['region_id'] = combined_df['region_id'].map(region_mappings)\n",
    "    return combined_df\n"
   ],
   "id": "cfce06bf14dd9fb1",
   "outputs": [],
   "execution_count": null
  },
  {
   "metadata": {},
   "cell_type": "code",
   "source": [
    "data = load_and_process_data('data')\n",
    "print(data, '\\n')"
   ],
   "id": "fe8cd76b9b35681",
   "outputs": [],
   "execution_count": null
  },
  {
   "metadata": {},
   "cell_type": "code",
   "source": [
    "def analyze_region_vhi(df, region_code, year_range):\n",
    "    df_filtered = df[(df['region_id'] == region_code) & (df['Year'].between(year_range[0], year_range[1]))]\n",
    "    if not df_filtered.empty:\n",
    "        min_vhi = df_filtered['VHI'].min()\n",
    "        max_vhi = df_filtered['VHI'].max()\n",
    "        original_region_code = reverse_region_mappings.get(region_code, None)\n",
    "        region_name = region_names_ukr.get(original_region_code, \"Невідомий регіон\")\n",
    "        print(f\"{Fore.BLUE}[+] {region_name}, {Fore.RED}min: {min_vhi}, {Fore.GREEN}max: {max_vhi}\")\n"
   ],
   "id": "28eb2374100f2f57",
   "outputs": [],
   "execution_count": null
  },
  {
   "metadata": {},
   "cell_type": "code",
   "source": [
    "for reg in range(1, 26):\n",
    "    analyze_region_vhi(data, reg, (1985, 2010))"
   ],
   "id": "70c1dfbf684afee0",
   "outputs": [],
   "execution_count": null
  },
  {
   "metadata": {},
   "cell_type": "code",
   "source": [
    "def analyze_drought_years(df, year_range=(\"1981\", \"2024\"), regions=None, extreme_threshold=15, moderate_threshold=(15, 35), affected_threshold=20):\n",
    "    extreme_years = []\n",
    "    moderate_years = []\n",
    "    if regions:\n",
    "        df = df[df['region_id'].isin(regions)]\n",
    "\n",
    "    unique_regions = df['region_id'].nunique()\n",
    "    min_affected = (affected_threshold / 100) * unique_regions\n",
    "\n",
    "    for year in range(int(year_range[0]), int(year_range[1]) + 1):\n",
    "        year_data = df[df['Year'] == year]\n",
    "        if year_data.empty:\n",
    "            continue\n",
    "\n",
    "        extreme_count = (year_data['VHI'] < extreme_threshold).sum()\n",
    "        moderate_count = year_data['VHI'].between(moderate_threshold[0], moderate_threshold[1]).sum()\n",
    "\n",
    "        if extreme_count >= min_affected:\n",
    "            extreme_years.append(year)\n",
    "        if moderate_count >= min_affected:\n",
    "            moderate_years.append(year)\n",
    "\n",
    "    return extreme_years, moderate_years\n",
    "extreme_drought_years, moderate_drought_years = analyze_drought_years(data, year_range=(\"1999\", \"2001\"), regions=[3, 5, 12])\n",
    "print(\"Роки екстремальних посух:\", extreme_drought_years)\n",
    "print(\"Роки помірних посух:\", moderate_drought_years)"
   ],
   "id": "f5a1cba0c9a4dffa",
   "outputs": [],
   "execution_count": null
  },
  {
   "metadata": {},
   "cell_type": "code",
   "source": "",
   "id": "872f5598e279d0fb",
   "outputs": [],
   "execution_count": null
  }
 ],
 "metadata": {
  "kernelspec": {
   "display_name": "Python 3",
   "language": "python",
   "name": "python3"
  },
  "language_info": {
   "codemirror_mode": {
    "name": "ipython",
    "version": 2
   },
   "file_extension": ".py",
   "mimetype": "text/x-python",
   "name": "python",
   "nbconvert_exporter": "python",
   "pygments_lexer": "ipython2",
   "version": "2.7.6"
  }
 },
 "nbformat": 4,
 "nbformat_minor": 5
}
